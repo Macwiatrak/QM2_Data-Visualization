# Creating a barplot visualizing the correlation coefficients between charitability & other ratios
# Created by Maciej Wiatrak 12th January 2017
# Created with help from https://python-graph-gallery.com/

# importing libraries/packages
%matplotlib inline
import numpy as np
import matplotlib.pyplot as plt
import pandas

# Loading the dataset of correlation coefficents calculated using python in 'CorrelationCoefficients.ipynb' (https://qm2dataanalysisvisualization-macwiatrak.notebooks.azure.com/nb//notebooks/CorrelationCoefficients.ipynb)
myFilename = './data/Correlation Coefficient Results.csv'
data1 = pandas.DataFrame.from_csv(myFilename)
data1.head()

# specializing width of the bars
barWidth = 0.3
 
# Choose the height of the 1st bars (visualizing Pearson correlation coeff.)
# assigning their values to results from the data imported
barsPearson = [data1['Policy Liberalism of States'].loc['Pearson'], 
         data1['Healthcare quality'].loc['Pearson'], 
         data1['Education ratio'].loc['Pearson'], 
         data1['Gini coefficient'].loc['Pearson'], 
         data1['Word frequency analysis'].loc['Pearson'], 
         data1['State integrity'].loc['Pearson']]
 
# Choose the height of the 2nd bars (visualizing Spearman rank correlation coeff.) 
# assigning their values to results from the data imported
barsSpearman = [data1['Policy Liberalism of States'].loc['Spearman'], 
         data1['Healthcare quality'].loc['Spearman'], 
         data1['Education ratio'].loc['Spearman'], 
         data1['Gini coefficient'].loc['Spearman'], 
         data1['Word frequency analysis'].loc['Spearman'], 
         data1['State integrity'].loc['Spearman']]
 
 
# Specifying the x position of bars depending on the nr of bars
r1 = np.arange(len(barsPearson))
r2 = [x + barWidth for x in r1]
 
# Create bars visualizing Pearson correlation coefficient, labelling and placing them on the graph
plt.bar(r1, barsPearson, width = barWidth, color = 'blue', edgecolor = 'black', capsize=7, 
        label='Pearson correlation coeff.')
 
# Create bars visualizing Spearman correlation coefficient, labelling and placing them on the graph
plt.bar(r2, barsSpearman, width = barWidth, color = 'red', edgecolor = 'black', capsize=7, 
        label='Spearman correlation coeff.')
 
# plotting the data, assigning the labels
plt.xticks([r + barWidth for r in range(len(barsPearson))], 
           ['Policy Lib.', 'Healthcare q.', 'Educ. ratio','Gini coeff.','Word freq.', 'State integrity'], size=8)
plt.ylabel('Correlation coefficient')
plt.legend()
plt.title('Correlation coefficients between charitability & other factors')
 
# Show graphic
plt.show()

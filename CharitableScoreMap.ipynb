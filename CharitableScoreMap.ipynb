!pip install folium

import pandas as pd
import folium
import os

myFilename = './data/DataVis/us-states.json'
myFilename1 = './data/DataVis/QM Data Analysis - map1.csv'

state_geo = os.path.join(myFilename)
state_data = pd.read_csv(myFilename1)

m = folium.Map(location=[37, -102], zoom_start=5)
 
# Add the color for the chloropleth:
m.choropleth(
 geo_data=state_geo,
 name='choropleth',
 data=state_data,
 columns=['Location', 'Charitable score'],
 key_on='feature.id',
 fill_color='OrRd',
 fill_opacity=0.7,
 line_opacity=0.2,
 legend_name='Charitability (%)'
)
folium.LayerControl().add_to(m)
 
# Save to html
m.save('#294_folium_chloropleth_USA2.html')

m

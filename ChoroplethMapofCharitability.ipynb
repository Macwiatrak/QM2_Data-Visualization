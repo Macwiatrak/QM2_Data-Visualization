# Creating a choropleth map with folium
# Created by Maciej Wiatrak 29th December 2017
# Created with help from https://python-graph-gallery.com/


# If you haven't yet installed folium, do it using the command below
# If you already installed it - ignore it
!pip install folium

# Importing packages
import pandas as pd
import folium
import os

# Loading the map of states
# Find the original file here: https://github.com/python-visualization/folium/tree/master/examples/data
myFilename = './data/us-states.json'
# Loading the data
myFilename1 = './data/Charitability.csv'

# directing files, map and data on charitability
state_geo = os.path.join(myFilename)
state_data = pd.read_csv(myFilename1)

# Pointing the system to choose the starting point of view 
m = folium.Map(location=[37, -102], zoom_start=4)
 
# Add the color for the chloropleth from the .csv:
m.choropleth(
 geo_data=state_geo,
 name='choropleth',
 data=state_data,
 columns=['Location', 'Charitable score'],
 key_on='feature.id',
 fill_color='OrRd',
 fill_opacity=0.7,
 line_opacity=0.3,
 legend_name='Avg charitable contribution as a % of AGI by state (%)'
)
folium.LayerControl().add_to(m)
 
# Save to html
m.save('#QM_folium_chloropleth_USA_Charitability.html')

# To view the map press m
m

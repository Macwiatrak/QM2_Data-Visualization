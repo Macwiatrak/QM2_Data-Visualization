#Correlation test using Pearson & Spearman methods

%matplotlib inline
import matplotlib.pyplot as plt
import numpy as np
import pandas

# Load the dataset
myFilename = './data/wk1/QM Data Analysis - xx.csv'
data1 = pandas.DataFrame.from_csv(myFilename)
data1.head()

data1.info()

plt.rcParams['figure.figsize'] = [8, 8]

X = data1['Charitable score']
Y = data1['Healthcare quality']

X=X.values.reshape(len(X),1)
Y=Y.values.reshape(len(Y),1)

#Pearson correlation test
data1['Charitable score'].corr(data1['Healthcare quality'])

#Spearman correlation test
data1.corr(method='spearman').loc['Charitable score']['Healthcare quality'].round(2)

# Plot outputs
plt.scatter(X, Y,  color='red')
plt.xlabel('Charitable Score', fontsize=12)
plt.ylabel('Healthcare quality', fontsize=12)
plt.xticks(())
plt.yticks(())
plt.title('Pearson: %s'%data1.corr().loc['Charitable score']['Healthcare quality'].round(2)+' Spearman: %s'%data1.corr(method='spearman').loc['Charitable score']['Healthcare quality'].round(2))
#plt.title('Pearson: %s'%data1.corr().loc[X][Y].round(2)+' Spearman: %s'%mpg_data.corr(method='spearman').loc[X]['mpg'].round(2))

plt.show()

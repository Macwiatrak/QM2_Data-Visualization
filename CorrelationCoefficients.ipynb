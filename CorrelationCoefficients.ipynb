# Correlation test using Pearson & Spearman methods
# Created by Maciej Wiatrak 19th December 2017


# importing packages
%matplotlib inline
import matplotlib.pyplot as plt
import numpy as np
import pandas

# Loading the dataset
myFilename = './data/Charitability&Healthcare.csv'
data1 = pandas.DataFrame.from_csv(myFilename)
data1.head()

# calculating the Pearson correlation coefficient
data1['Charitable score'].corr(data1['Healthcare quality'])

# calculating the Spearman correlation coefficient
data1.corr(method='spearman').loc['Charitable score']['Healthcare quality'].round(2)

# setting the parameters of the plot
plt.rcParams['figure.figsize'] = [8, 8]

# assigning the values from the .csv file
X = data1['Charitable score']
Y = data1['Healthcare quality']

X=X.values.reshape(len(X),1)
Y=Y.values.reshape(len(Y),1)

# Plotting outputs

# creating a scatter plot where the dots are to be red
plt.scatter(X, Y,  color='red')
# labeling the axes
plt.xlabel('Charitable Score', fontsize=12)
plt.ylabel('Healthcare quality', fontsize=12)
plt.xticks(())
plt.yticks(())
# printing the title
plt.title('Pearson: %s'%data1.corr().loc['Charitable score']['Healthcare quality'].round(2)+' Spearman: %s'%data1.corr(method='spearman').loc['Charitable score']['Healthcare quality'].round(2))

plt.show()

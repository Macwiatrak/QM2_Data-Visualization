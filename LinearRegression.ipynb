# Linear Regression model
# Created by Maciej Wiatrak 9th December 2017
# created thanks to http://scikit-learn.org/stable/auto_examples/linear_model/plot_ols.html  


# importing packages
%matplotlib inline

import matplotlib.pyplot as plt
import numpy as np
import pandas
from sklearn import datasets, linear_model

# Load the dataset
myFilename = './data/Charitability&Healthcare.csv'
data1 = pandas.DataFrame.from_csv(myFilename)
data1.head()

X = data1['Charitable score']
Y = data1['Healthcare quality']

X=X.values.reshape(len(X),1)
Y=Y.values.reshape(len(Y),1)

# Create linear regression object
regr = linear_model.LinearRegression()

# Train the model using the dataset
regr.fit(X, Y)

# Make predictions
y_pred = regr.predict(X)

# The coefficients
print('Coefficients: \n', regr.coef_)


# Plot outputs
plt.scatter(X, Y,  color='black')
plt.plot(X, y_pred, color='blue', linewidth=3)

plt.xticks(())
plt.yticks(())
plt.xlabel('Charitable Score', fontsize=18)
plt.ylabel('Healthcare quality', fontsize=16)

plt.show()

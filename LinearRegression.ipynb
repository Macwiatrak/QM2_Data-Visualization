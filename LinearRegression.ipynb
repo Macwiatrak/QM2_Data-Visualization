%matplotlib inline

import matplotlib.pyplot as plt
import numpy as np
import pandas
from sklearn import datasets, linear_model
from sklearn.metrics import mean_squared_error, r2_score

# Load the diabetes dataset
myFilename = './data/wk1/QM Data Analysis - xx.csv'
data1 = pandas.DataFrame.from_csv(myFilename)
data1.head()

X = data1['Charitable score']
Y = data1['Healthcare quality']

X=X.values.reshape(len(X),1)
Y=Y.values.reshape(len(Y),1)

X_train = X[:-40]
X_test = X[-40:]

Y_train = Y[:-40]
Y_test = Y[-40:]

# Create linear regression object
regr = linear_model.LinearRegression()

# Train the model using the training sets
regr.fit(X_train, Y_train)

# Make predictions using the testing set
diabetes_y_pred = regr.predict(X_test)

# The coefficients
print('Coefficients: \n', regr.coef_)
# The mean squared error
print("Mean squared error: %.2f"
      % mean_squared_error(Y_test, diabetes_y_pred))
# Explained variance score: 1 is perfect prediction
print('Variance score: %.2f' % r2_score(Y_test, diabetes_y_pred))

# Plot outputs
plt.scatter(X_test, Y_test,  color='black')
plt.plot(X_test, diabetes_y_pred, color='blue', linewidth=3)

plt.xticks(())
plt.yticks(())
plt.xlabel('xlabel', fontsize=18)
plt.ylabel('ylabel', fontsize=16)

plt.show()

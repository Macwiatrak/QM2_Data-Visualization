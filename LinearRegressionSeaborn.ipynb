# library & dataset
import matplotlib.pyplot as plt
import seaborn as sns
import numpy as np
import pandas

myFilename = './data/wk1/QM Data Analysis - xx.csv'
data1 = pandas.DataFrame.from_csv(myFilename)
data1.head()

sns.lmplot('Charitable score','Healthcare quality', data=data1, fit_reg=True)
